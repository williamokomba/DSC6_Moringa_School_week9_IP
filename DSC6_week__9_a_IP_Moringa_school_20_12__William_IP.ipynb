{
  "nbformat": 4,
  "nbformat_minor": 0,
  "metadata": {
    "colab": {
      "name": "DSC6_week _9_a_IP_Moringa_school_20_12_ William IP.ipynb ",
      "provenance": [],
      "toc_visible": true,
      "authorship_tag": "ABX9TyO3AWSGRcgxeo6LiNVtyATg",
      "include_colab_link": true
    },
    "kernelspec": {
      "name": "python3",
      "display_name": "Python 3"
    }
  },
  "cells": [
    {
      "cell_type": "markdown",
      "metadata": {
        "id": "view-in-github",
        "colab_type": "text"
      },
      "source": [
        "<a href=\"https://colab.research.google.com/github/williamokomba/DSC6_Moringa_School_week9_IP/blob/main/DSC6_week__9_a_IP_Moringa_school_20_12__William_IP.ipynb\" target=\"_parent\"><img src=\"https://colab.research.google.com/assets/colab-badge.svg\" alt=\"Open In Colab\"/></a>"
      ]
    },
    {
      "cell_type": "markdown",
      "metadata": {
        "id": "C1pFXdNyyPln"
      },
      "source": [
        "## **Moringa Data science core week 9 Independent project: KNN**"
      ]
    },
    {
      "cell_type": "markdown",
      "metadata": {
        "id": "n9eE1OiXnP0p"
      },
      "source": [
        "## 1.0 Defining the Question"
      ]
    },
    {
      "cell_type": "markdown",
      "metadata": {
        "id": "G9IRdJhFyUzp"
      },
      "source": [
        "**Dataset provided**\n",
        "\n",
        "* Train Dataset [link](https://archive.org/download/train5_202002/train%20%285%29.csv)\n",
        "* Test Dataset [link text](https://archive.org/download/test1_202002/test%20%281%29.csv)\n",
        "\n",
        "  Data grossary\n",
        "\n",
        "\n",
        "* **Name** : Name of the passenger\n",
        "* **survival**: Survival; 0 = No, 1 = Yes\n",
        "\n",
        "* **pclass**: Ticket class ; 1 = 1st, 2 = 2nd, 3 = 3rd\n",
        "\n",
        "* **sex**: Sex\n",
        "\n",
        "* **Age**: Age in years\n",
        "\n",
        "* **sibsp**: number of siblings / spouses aboard the Titanic\n",
        "\n",
        "* **parch**: `number of parents / children aboard the Titanic`\n",
        "\n",
        "* **ticket**: Ticket number\n",
        "\n",
        "* **fare**: Passenger fare\n",
        "\n",
        "* **cabin**: Cabin number\n",
        "\n",
        "* **embarked**: Port of Embarkation ; C = Cherbourg, Q = Queenstown, S = Southampton\n",
        "\n"
      ]
    },
    {
      "cell_type": "markdown",
      "metadata": {
        "id": "TTnig90zydJ4"
      },
      "source": [
        "###1.1 Specifying the data analytic question\n",
        "\n",
        "To predict if a passenger survived the sinking of the Titanic or not."
      ]
    },
    {
      "cell_type": "markdown",
      "metadata": {
        "id": "PtRCPCgUynbp"
      },
      "source": [
        "### 1.2 Defining the metric for success\n",
        "\n",
        "identify the score in percentage of passengers that are correctly predicted, known as accuracy."
      ]
    },
    {
      "cell_type": "markdown",
      "metadata": {
        "id": "Jpif60F7yruw"
      },
      "source": [
        "### 1.3 Understanding the Context\n",
        "\n",
        "Titanic was a British passenger liner operated by the White Star Line that sank in the North Atlantic Ocean in the early morning hours of 15 April 1912, after striking an iceberg during her maiden voyage from Southampton to New York City. Of the estimated 2,224 passengers and crew aboard, more than 1,500 died, making the sinking one of modern history's deadliest unforgatable commercial marine disasters."
      ]
    },
    {
      "cell_type": "markdown",
      "metadata": {
        "id": "nWiX9jevywuq"
      },
      "source": [
        "### 1.4 Recording the Experimental Design\n",
        "\n",
        "* upload and read our csv files\n",
        "* clean our dataset\n",
        "* perfom EDA\n",
        "* build our models using KNN\n",
        "* challenge our solueion\n",
        "* Evaluate their performance on the dataset at hand and then provide observations and recommendations on the suitability of each of the tested models on their appropriateness of solving the given problem."
      ]
    },
    {
      "cell_type": "markdown",
      "metadata": {
        "id": "QPMEKs8Fy0Kn"
      },
      "source": [
        "### 1.5 Assessing the Relevance of the Data\n",
        "\n",
        "the data are rellevant as it has all data and values related to the passanger and accident."
      ]
    },
    {
      "cell_type": "markdown",
      "metadata": {
        "id": "LV63-6KszOZc"
      },
      "source": [
        "## 2.Loading and reading Our Datasets"
      ]
    },
    {
      "cell_type": "code",
      "metadata": {
        "id": "aGQmOZE3701R"
      },
      "source": [
        "#importing our necessary libraries\n",
        "import pandas as pd\n",
        "import numpy as np\n",
        "import scipy\n",
        "import matplotlib.pyplot as plt\n",
        "import seaborn as sns\n",
        "#\n",
        "#Machine Learning libraries\n",
        "from sklearn.model_selection import train_test_split\n",
        "from sklearn.neighbors import KNeighborsRegressor\n",
        "from sklearn.metrics import mean_squared_error\n",
        "import math\n",
        "from sklearn.preprocessing import StandardScaler\n",
        "from sklearn.neighbors import KNeighborsClassifier\n",
        "#\n",
        "# Import scikit-learn metrics module for accuracy calculation\n",
        "from sklearn.metrics import  accuracy_score\n",
        "from sklearn.metrics import classification_report, confusion_matrix\n",
        "#\n",
        "%matplotlib inline"
      ],
      "execution_count": 179,
      "outputs": []
    },
    {
      "cell_type": "code",
      "metadata": {
        "id": "V6b1gszYQN-K"
      },
      "source": [
        "#loading and reading the datasets\n",
        "#\n",
        "train_df=pd.read_csv(\"/content/train.csv\")\n",
        "#\n",
        "test_df=pd.read_csv(\"/content/test.csv\")\n"
      ],
      "execution_count": 180,
      "outputs": []
    },
    {
      "cell_type": "markdown",
      "metadata": {
        "id": "doOyC_C4zS9r"
      },
      "source": [
        "## 3. Checking the Data"
      ]
    },
    {
      "cell_type": "code",
      "metadata": {
        "colab": {
          "base_uri": "https://localhost:8080/"
        },
        "id": "P2rta0Bp_0KA",
        "outputId": "d320147f-3357-4056-eb52-04d81ab8c3a8"
      },
      "source": [
        "# Determining the no. of records in our result dataset\n",
        "#\n",
        "print(\"train_dataset shape\", train_df.shape)\n",
        "print(\"-\"*30)\n",
        "print(\"test_dataset shape\", train_df.shape)"
      ],
      "execution_count": 181,
      "outputs": [
        {
          "output_type": "stream",
          "text": [
            "train_dataset shape (891, 12)\n",
            "------------------------------\n",
            "test_dataset shape (891, 12)\n"
          ],
          "name": "stdout"
        }
      ]
    },
    {
      "cell_type": "markdown",
      "metadata": {
        "id": "ekM2hIlMaOai"
      },
      "source": [
        "**observation**: both datsets has 891 records and 12 variables."
      ]
    },
    {
      "cell_type": "code",
      "metadata": {
        "colab": {
          "base_uri": "https://localhost:8080/",
          "height": 202
        },
        "id": "5nZm_w8yZML6",
        "outputId": "bf292870-65a6-42cf-d98b-da0d56b3675b"
      },
      "source": [
        "# Previewing the top 5 of our train_df dataset\n",
        "#\n",
        "train_df.head()"
      ],
      "execution_count": 182,
      "outputs": [
        {
          "output_type": "execute_result",
          "data": {
            "text/html": [
              "<div>\n",
              "<style scoped>\n",
              "    .dataframe tbody tr th:only-of-type {\n",
              "        vertical-align: middle;\n",
              "    }\n",
              "\n",
              "    .dataframe tbody tr th {\n",
              "        vertical-align: top;\n",
              "    }\n",
              "\n",
              "    .dataframe thead th {\n",
              "        text-align: right;\n",
              "    }\n",
              "</style>\n",
              "<table border=\"1\" class=\"dataframe\">\n",
              "  <thead>\n",
              "    <tr style=\"text-align: right;\">\n",
              "      <th></th>\n",
              "      <th>PassengerId</th>\n",
              "      <th>Survived</th>\n",
              "      <th>Pclass</th>\n",
              "      <th>Name</th>\n",
              "      <th>Sex</th>\n",
              "      <th>Age</th>\n",
              "      <th>SibSp</th>\n",
              "      <th>Parch</th>\n",
              "      <th>Ticket</th>\n",
              "      <th>Fare</th>\n",
              "      <th>Cabin</th>\n",
              "      <th>Embarked</th>\n",
              "    </tr>\n",
              "  </thead>\n",
              "  <tbody>\n",
              "    <tr>\n",
              "      <th>0</th>\n",
              "      <td>1</td>\n",
              "      <td>0</td>\n",
              "      <td>3</td>\n",
              "      <td>Braund, Mr. Owen Harris</td>\n",
              "      <td>male</td>\n",
              "      <td>22.0</td>\n",
              "      <td>1</td>\n",
              "      <td>0</td>\n",
              "      <td>A/5 21171</td>\n",
              "      <td>7.2500</td>\n",
              "      <td>NaN</td>\n",
              "      <td>S</td>\n",
              "    </tr>\n",
              "    <tr>\n",
              "      <th>1</th>\n",
              "      <td>2</td>\n",
              "      <td>1</td>\n",
              "      <td>1</td>\n",
              "      <td>Cumings, Mrs. John Bradley (Florence Briggs Th...</td>\n",
              "      <td>female</td>\n",
              "      <td>38.0</td>\n",
              "      <td>1</td>\n",
              "      <td>0</td>\n",
              "      <td>PC 17599</td>\n",
              "      <td>71.2833</td>\n",
              "      <td>C85</td>\n",
              "      <td>C</td>\n",
              "    </tr>\n",
              "    <tr>\n",
              "      <th>2</th>\n",
              "      <td>3</td>\n",
              "      <td>1</td>\n",
              "      <td>3</td>\n",
              "      <td>Heikkinen, Miss. Laina</td>\n",
              "      <td>female</td>\n",
              "      <td>26.0</td>\n",
              "      <td>0</td>\n",
              "      <td>0</td>\n",
              "      <td>STON/O2. 3101282</td>\n",
              "      <td>7.9250</td>\n",
              "      <td>NaN</td>\n",
              "      <td>S</td>\n",
              "    </tr>\n",
              "    <tr>\n",
              "      <th>3</th>\n",
              "      <td>4</td>\n",
              "      <td>1</td>\n",
              "      <td>1</td>\n",
              "      <td>Futrelle, Mrs. Jacques Heath (Lily May Peel)</td>\n",
              "      <td>female</td>\n",
              "      <td>35.0</td>\n",
              "      <td>1</td>\n",
              "      <td>0</td>\n",
              "      <td>113803</td>\n",
              "      <td>53.1000</td>\n",
              "      <td>C123</td>\n",
              "      <td>S</td>\n",
              "    </tr>\n",
              "    <tr>\n",
              "      <th>4</th>\n",
              "      <td>5</td>\n",
              "      <td>0</td>\n",
              "      <td>3</td>\n",
              "      <td>Allen, Mr. William Henry</td>\n",
              "      <td>male</td>\n",
              "      <td>35.0</td>\n",
              "      <td>0</td>\n",
              "      <td>0</td>\n",
              "      <td>373450</td>\n",
              "      <td>8.0500</td>\n",
              "      <td>NaN</td>\n",
              "      <td>S</td>\n",
              "    </tr>\n",
              "  </tbody>\n",
              "</table>\n",
              "</div>"
            ],
            "text/plain": [
              "   PassengerId  Survived  Pclass  ...     Fare Cabin  Embarked\n",
              "0            1         0       3  ...   7.2500   NaN         S\n",
              "1            2         1       1  ...  71.2833   C85         C\n",
              "2            3         1       3  ...   7.9250   NaN         S\n",
              "3            4         1       1  ...  53.1000  C123         S\n",
              "4            5         0       3  ...   8.0500   NaN         S\n",
              "\n",
              "[5 rows x 12 columns]"
            ]
          },
          "metadata": {
            "tags": []
          },
          "execution_count": 182
        }
      ]
    },
    {
      "cell_type": "code",
      "metadata": {
        "colab": {
          "base_uri": "https://localhost:8080/",
          "height": 197
        },
        "id": "DS5JkEFeZ3kD",
        "outputId": "4c2fdbf1-4240-4d30-ec62-60c88a134a1a"
      },
      "source": [
        "# Previewing the bottom of our train_df dataset\n",
        "#\n",
        "train_df.tail()"
      ],
      "execution_count": 183,
      "outputs": [
        {
          "output_type": "execute_result",
          "data": {
            "text/html": [
              "<div>\n",
              "<style scoped>\n",
              "    .dataframe tbody tr th:only-of-type {\n",
              "        vertical-align: middle;\n",
              "    }\n",
              "\n",
              "    .dataframe tbody tr th {\n",
              "        vertical-align: top;\n",
              "    }\n",
              "\n",
              "    .dataframe thead th {\n",
              "        text-align: right;\n",
              "    }\n",
              "</style>\n",
              "<table border=\"1\" class=\"dataframe\">\n",
              "  <thead>\n",
              "    <tr style=\"text-align: right;\">\n",
              "      <th></th>\n",
              "      <th>PassengerId</th>\n",
              "      <th>Survived</th>\n",
              "      <th>Pclass</th>\n",
              "      <th>Name</th>\n",
              "      <th>Sex</th>\n",
              "      <th>Age</th>\n",
              "      <th>SibSp</th>\n",
              "      <th>Parch</th>\n",
              "      <th>Ticket</th>\n",
              "      <th>Fare</th>\n",
              "      <th>Cabin</th>\n",
              "      <th>Embarked</th>\n",
              "    </tr>\n",
              "  </thead>\n",
              "  <tbody>\n",
              "    <tr>\n",
              "      <th>886</th>\n",
              "      <td>887</td>\n",
              "      <td>0</td>\n",
              "      <td>2</td>\n",
              "      <td>Montvila, Rev. Juozas</td>\n",
              "      <td>male</td>\n",
              "      <td>27.0</td>\n",
              "      <td>0</td>\n",
              "      <td>0</td>\n",
              "      <td>211536</td>\n",
              "      <td>13.00</td>\n",
              "      <td>NaN</td>\n",
              "      <td>S</td>\n",
              "    </tr>\n",
              "    <tr>\n",
              "      <th>887</th>\n",
              "      <td>888</td>\n",
              "      <td>1</td>\n",
              "      <td>1</td>\n",
              "      <td>Graham, Miss. Margaret Edith</td>\n",
              "      <td>female</td>\n",
              "      <td>19.0</td>\n",
              "      <td>0</td>\n",
              "      <td>0</td>\n",
              "      <td>112053</td>\n",
              "      <td>30.00</td>\n",
              "      <td>B42</td>\n",
              "      <td>S</td>\n",
              "    </tr>\n",
              "    <tr>\n",
              "      <th>888</th>\n",
              "      <td>889</td>\n",
              "      <td>0</td>\n",
              "      <td>3</td>\n",
              "      <td>Johnston, Miss. Catherine Helen \"Carrie\"</td>\n",
              "      <td>female</td>\n",
              "      <td>NaN</td>\n",
              "      <td>1</td>\n",
              "      <td>2</td>\n",
              "      <td>W./C. 6607</td>\n",
              "      <td>23.45</td>\n",
              "      <td>NaN</td>\n",
              "      <td>S</td>\n",
              "    </tr>\n",
              "    <tr>\n",
              "      <th>889</th>\n",
              "      <td>890</td>\n",
              "      <td>1</td>\n",
              "      <td>1</td>\n",
              "      <td>Behr, Mr. Karl Howell</td>\n",
              "      <td>male</td>\n",
              "      <td>26.0</td>\n",
              "      <td>0</td>\n",
              "      <td>0</td>\n",
              "      <td>111369</td>\n",
              "      <td>30.00</td>\n",
              "      <td>C148</td>\n",
              "      <td>C</td>\n",
              "    </tr>\n",
              "    <tr>\n",
              "      <th>890</th>\n",
              "      <td>891</td>\n",
              "      <td>0</td>\n",
              "      <td>3</td>\n",
              "      <td>Dooley, Mr. Patrick</td>\n",
              "      <td>male</td>\n",
              "      <td>32.0</td>\n",
              "      <td>0</td>\n",
              "      <td>0</td>\n",
              "      <td>370376</td>\n",
              "      <td>7.75</td>\n",
              "      <td>NaN</td>\n",
              "      <td>Q</td>\n",
              "    </tr>\n",
              "  </tbody>\n",
              "</table>\n",
              "</div>"
            ],
            "text/plain": [
              "     PassengerId  Survived  Pclass  ...   Fare Cabin  Embarked\n",
              "886          887         0       2  ...  13.00   NaN         S\n",
              "887          888         1       1  ...  30.00   B42         S\n",
              "888          889         0       3  ...  23.45   NaN         S\n",
              "889          890         1       1  ...  30.00  C148         C\n",
              "890          891         0       3  ...   7.75   NaN         Q\n",
              "\n",
              "[5 rows x 12 columns]"
            ]
          },
          "metadata": {
            "tags": []
          },
          "execution_count": 183
        }
      ]
    },
    {
      "cell_type": "markdown",
      "metadata": {
        "id": "WxZcia5BaIwz"
      },
      "source": [
        "**observation**, the dataset is uniform from top to bottom."
      ]
    },
    {
      "cell_type": "code",
      "metadata": {
        "colab": {
          "base_uri": "https://localhost:8080/"
        },
        "id": "gGOPl3FIaeES",
        "outputId": "5102970a-2d02-48ea-ae44-57e4495390ef"
      },
      "source": [
        "# Checking whether each column has an appropriate datatype\n",
        "#\n",
        "train_df.info()"
      ],
      "execution_count": 184,
      "outputs": [
        {
          "output_type": "stream",
          "text": [
            "<class 'pandas.core.frame.DataFrame'>\n",
            "RangeIndex: 891 entries, 0 to 890\n",
            "Data columns (total 12 columns):\n",
            " #   Column       Non-Null Count  Dtype  \n",
            "---  ------       --------------  -----  \n",
            " 0   PassengerId  891 non-null    int64  \n",
            " 1   Survived     891 non-null    int64  \n",
            " 2   Pclass       891 non-null    int64  \n",
            " 3   Name         891 non-null    object \n",
            " 4   Sex          891 non-null    object \n",
            " 5   Age          714 non-null    float64\n",
            " 6   SibSp        891 non-null    int64  \n",
            " 7   Parch        891 non-null    int64  \n",
            " 8   Ticket       891 non-null    object \n",
            " 9   Fare         891 non-null    float64\n",
            " 10  Cabin        204 non-null    object \n",
            " 11  Embarked     889 non-null    object \n",
            "dtypes: float64(2), int64(5), object(5)\n",
            "memory usage: 83.7+ KB\n"
          ],
          "name": "stdout"
        }
      ]
    },
    {
      "cell_type": "markdown",
      "metadata": {
        "id": "jF3kS9SoJX8T"
      },
      "source": [
        "**observartion**: dataset has integers, float and string data type. cabin variable has many mising values."
      ]
    },
    {
      "cell_type": "markdown",
      "metadata": {
        "id": "NCmU2UgXze7W"
      },
      "source": [
        "## 4. External Data Source Validation"
      ]
    },
    {
      "cell_type": "markdown",
      "metadata": {
        "id": "yVWSLozbzrXJ"
      },
      "source": [
        "### a. Validation\n",
        "\n",
        "* the data was valid since it can be confirmed on Kaggle which is the trusted open data source, and also based on other international publications."
      ]
    },
    {
      "cell_type": "markdown",
      "metadata": {
        "id": "8OMRvEKOz2bc"
      },
      "source": [
        "## 5. Tidying the Dataset"
      ]
    },
    {
      "cell_type": "code",
      "metadata": {
        "colab": {
          "base_uri": "https://localhost:8080/",
          "height": 202
        },
        "id": "cFG0DxxFDWPn",
        "outputId": "51828b0a-7fd4-442f-fd4d-e6fc6a1b2106"
      },
      "source": [
        "#Data validity\n",
        "#checking for irrelevant colunms\n",
        "#\n",
        "train_df1=train_df.copy()\n",
        "#\n",
        "train_df1.head()"
      ],
      "execution_count": 185,
      "outputs": [
        {
          "output_type": "execute_result",
          "data": {
            "text/html": [
              "<div>\n",
              "<style scoped>\n",
              "    .dataframe tbody tr th:only-of-type {\n",
              "        vertical-align: middle;\n",
              "    }\n",
              "\n",
              "    .dataframe tbody tr th {\n",
              "        vertical-align: top;\n",
              "    }\n",
              "\n",
              "    .dataframe thead th {\n",
              "        text-align: right;\n",
              "    }\n",
              "</style>\n",
              "<table border=\"1\" class=\"dataframe\">\n",
              "  <thead>\n",
              "    <tr style=\"text-align: right;\">\n",
              "      <th></th>\n",
              "      <th>PassengerId</th>\n",
              "      <th>Survived</th>\n",
              "      <th>Pclass</th>\n",
              "      <th>Name</th>\n",
              "      <th>Sex</th>\n",
              "      <th>Age</th>\n",
              "      <th>SibSp</th>\n",
              "      <th>Parch</th>\n",
              "      <th>Ticket</th>\n",
              "      <th>Fare</th>\n",
              "      <th>Cabin</th>\n",
              "      <th>Embarked</th>\n",
              "    </tr>\n",
              "  </thead>\n",
              "  <tbody>\n",
              "    <tr>\n",
              "      <th>0</th>\n",
              "      <td>1</td>\n",
              "      <td>0</td>\n",
              "      <td>3</td>\n",
              "      <td>Braund, Mr. Owen Harris</td>\n",
              "      <td>male</td>\n",
              "      <td>22.0</td>\n",
              "      <td>1</td>\n",
              "      <td>0</td>\n",
              "      <td>A/5 21171</td>\n",
              "      <td>7.2500</td>\n",
              "      <td>NaN</td>\n",
              "      <td>S</td>\n",
              "    </tr>\n",
              "    <tr>\n",
              "      <th>1</th>\n",
              "      <td>2</td>\n",
              "      <td>1</td>\n",
              "      <td>1</td>\n",
              "      <td>Cumings, Mrs. John Bradley (Florence Briggs Th...</td>\n",
              "      <td>female</td>\n",
              "      <td>38.0</td>\n",
              "      <td>1</td>\n",
              "      <td>0</td>\n",
              "      <td>PC 17599</td>\n",
              "      <td>71.2833</td>\n",
              "      <td>C85</td>\n",
              "      <td>C</td>\n",
              "    </tr>\n",
              "    <tr>\n",
              "      <th>2</th>\n",
              "      <td>3</td>\n",
              "      <td>1</td>\n",
              "      <td>3</td>\n",
              "      <td>Heikkinen, Miss. Laina</td>\n",
              "      <td>female</td>\n",
              "      <td>26.0</td>\n",
              "      <td>0</td>\n",
              "      <td>0</td>\n",
              "      <td>STON/O2. 3101282</td>\n",
              "      <td>7.9250</td>\n",
              "      <td>NaN</td>\n",
              "      <td>S</td>\n",
              "    </tr>\n",
              "    <tr>\n",
              "      <th>3</th>\n",
              "      <td>4</td>\n",
              "      <td>1</td>\n",
              "      <td>1</td>\n",
              "      <td>Futrelle, Mrs. Jacques Heath (Lily May Peel)</td>\n",
              "      <td>female</td>\n",
              "      <td>35.0</td>\n",
              "      <td>1</td>\n",
              "      <td>0</td>\n",
              "      <td>113803</td>\n",
              "      <td>53.1000</td>\n",
              "      <td>C123</td>\n",
              "      <td>S</td>\n",
              "    </tr>\n",
              "    <tr>\n",
              "      <th>4</th>\n",
              "      <td>5</td>\n",
              "      <td>0</td>\n",
              "      <td>3</td>\n",
              "      <td>Allen, Mr. William Henry</td>\n",
              "      <td>male</td>\n",
              "      <td>35.0</td>\n",
              "      <td>0</td>\n",
              "      <td>0</td>\n",
              "      <td>373450</td>\n",
              "      <td>8.0500</td>\n",
              "      <td>NaN</td>\n",
              "      <td>S</td>\n",
              "    </tr>\n",
              "  </tbody>\n",
              "</table>\n",
              "</div>"
            ],
            "text/plain": [
              "   PassengerId  Survived  Pclass  ...     Fare Cabin  Embarked\n",
              "0            1         0       3  ...   7.2500   NaN         S\n",
              "1            2         1       1  ...  71.2833   C85         C\n",
              "2            3         1       3  ...   7.9250   NaN         S\n",
              "3            4         1       1  ...  53.1000  C123         S\n",
              "4            5         0       3  ...   8.0500   NaN         S\n",
              "\n",
              "[5 rows x 12 columns]"
            ]
          },
          "metadata": {
            "tags": []
          },
          "execution_count": 185
        }
      ]
    },
    {
      "cell_type": "code",
      "metadata": {
        "colab": {
          "base_uri": "https://localhost:8080/"
        },
        "id": "T5m8OQndGN7l",
        "outputId": "ee33b9aa-17bd-4098-e84d-5d757a66a833"
      },
      "source": [
        "#checking colunms with lots of missing variables\n",
        "#\n",
        "train_df1.Cabin.value_counts()"
      ],
      "execution_count": 186,
      "outputs": [
        {
          "output_type": "execute_result",
          "data": {
            "text/plain": [
              "G6             4\n",
              "C23 C25 C27    4\n",
              "B96 B98        4\n",
              "F2             3\n",
              "C22 C26        3\n",
              "              ..\n",
              "C54            1\n",
              "B3             1\n",
              "A24            1\n",
              "C99            1\n",
              "D48            1\n",
              "Name: Cabin, Length: 147, dtype: int64"
            ]
          },
          "metadata": {
            "tags": []
          },
          "execution_count": 186
        }
      ]
    },
    {
      "cell_type": "code",
      "metadata": {
        "colab": {
          "base_uri": "https://localhost:8080/",
          "height": 197
        },
        "id": "t70PqjXwGqQt",
        "outputId": "21a66a16-026e-468a-a961-ed5078bbd458"
      },
      "source": [
        "#Dropping irrelevant 'PassengerId', 'Name' and 'Cabin'\n",
        "#\n",
        "train_df1.drop(['PassengerId','Name','Cabin'], axis=1, inplace=True)\n",
        "train_df1.head()"
      ],
      "execution_count": 187,
      "outputs": [
        {
          "output_type": "execute_result",
          "data": {
            "text/html": [
              "<div>\n",
              "<style scoped>\n",
              "    .dataframe tbody tr th:only-of-type {\n",
              "        vertical-align: middle;\n",
              "    }\n",
              "\n",
              "    .dataframe tbody tr th {\n",
              "        vertical-align: top;\n",
              "    }\n",
              "\n",
              "    .dataframe thead th {\n",
              "        text-align: right;\n",
              "    }\n",
              "</style>\n",
              "<table border=\"1\" class=\"dataframe\">\n",
              "  <thead>\n",
              "    <tr style=\"text-align: right;\">\n",
              "      <th></th>\n",
              "      <th>Survived</th>\n",
              "      <th>Pclass</th>\n",
              "      <th>Sex</th>\n",
              "      <th>Age</th>\n",
              "      <th>SibSp</th>\n",
              "      <th>Parch</th>\n",
              "      <th>Ticket</th>\n",
              "      <th>Fare</th>\n",
              "      <th>Embarked</th>\n",
              "    </tr>\n",
              "  </thead>\n",
              "  <tbody>\n",
              "    <tr>\n",
              "      <th>0</th>\n",
              "      <td>0</td>\n",
              "      <td>3</td>\n",
              "      <td>male</td>\n",
              "      <td>22.0</td>\n",
              "      <td>1</td>\n",
              "      <td>0</td>\n",
              "      <td>A/5 21171</td>\n",
              "      <td>7.2500</td>\n",
              "      <td>S</td>\n",
              "    </tr>\n",
              "    <tr>\n",
              "      <th>1</th>\n",
              "      <td>1</td>\n",
              "      <td>1</td>\n",
              "      <td>female</td>\n",
              "      <td>38.0</td>\n",
              "      <td>1</td>\n",
              "      <td>0</td>\n",
              "      <td>PC 17599</td>\n",
              "      <td>71.2833</td>\n",
              "      <td>C</td>\n",
              "    </tr>\n",
              "    <tr>\n",
              "      <th>2</th>\n",
              "      <td>1</td>\n",
              "      <td>3</td>\n",
              "      <td>female</td>\n",
              "      <td>26.0</td>\n",
              "      <td>0</td>\n",
              "      <td>0</td>\n",
              "      <td>STON/O2. 3101282</td>\n",
              "      <td>7.9250</td>\n",
              "      <td>S</td>\n",
              "    </tr>\n",
              "    <tr>\n",
              "      <th>3</th>\n",
              "      <td>1</td>\n",
              "      <td>1</td>\n",
              "      <td>female</td>\n",
              "      <td>35.0</td>\n",
              "      <td>1</td>\n",
              "      <td>0</td>\n",
              "      <td>113803</td>\n",
              "      <td>53.1000</td>\n",
              "      <td>S</td>\n",
              "    </tr>\n",
              "    <tr>\n",
              "      <th>4</th>\n",
              "      <td>0</td>\n",
              "      <td>3</td>\n",
              "      <td>male</td>\n",
              "      <td>35.0</td>\n",
              "      <td>0</td>\n",
              "      <td>0</td>\n",
              "      <td>373450</td>\n",
              "      <td>8.0500</td>\n",
              "      <td>S</td>\n",
              "    </tr>\n",
              "  </tbody>\n",
              "</table>\n",
              "</div>"
            ],
            "text/plain": [
              "   Survived  Pclass     Sex   Age  ...  Parch            Ticket     Fare  Embarked\n",
              "0         0       3    male  22.0  ...      0         A/5 21171   7.2500         S\n",
              "1         1       1  female  38.0  ...      0          PC 17599  71.2833         C\n",
              "2         1       3  female  26.0  ...      0  STON/O2. 3101282   7.9250         S\n",
              "3         1       1  female  35.0  ...      0            113803  53.1000         S\n",
              "4         0       3    male  35.0  ...      0            373450   8.0500         S\n",
              "\n",
              "[5 rows x 9 columns]"
            ]
          },
          "metadata": {
            "tags": []
          },
          "execution_count": 187
        }
      ]
    },
    {
      "cell_type": "markdown",
      "metadata": {
        "id": "hAJL2ZEQIS7e"
      },
      "source": [
        "**observation** passager id and name were dropped since they won't be rellevant in the analysis. cabin was dropped since it has more than 25% of missing values(has 77.7% of the missing values)."
      ]
    },
    {
      "cell_type": "code",
      "metadata": {
        "colab": {
          "base_uri": "https://localhost:8080/",
          "height": 592
        },
        "id": "kvY_wn4igY4k",
        "outputId": "5141ed5f-13fe-45b0-f21e-5752db574b24"
      },
      "source": [
        "#Accuracy\n",
        "#checking for outliers\n",
        "#\n",
        "plt.figure(figsize = (15, 10))\n",
        "train_df1.boxplot()\n",
        "plt.show()"
      ],
      "execution_count": 188,
      "outputs": [
        {
          "output_type": "display_data",
          "data": {
            "image/png": "[encoded data removed]",
            "text/plain": [
              "<Figure size 1080x720 with 1 Axes>"
            ]
          },
          "metadata": {
            "tags": [],
            "needs_background": "light"
          }
        }
      ]
    },
    {
      "cell_type": "markdown",
      "metadata": {
        "id": "06Nl8CryjZ8b"
      },
      "source": [
        "**observation** : there are outliers in age, sibsp, perch and fare, but they looks genuine thus we won't remove them."
      ]
    },
    {
      "cell_type": "code",
      "metadata": {
        "colab": {
          "base_uri": "https://localhost:8080/"
        },
        "id": "xcyfeDGuSI0S",
        "outputId": "c50a0379-a78f-4058-ebbf-3dde1d3e40f5"
      },
      "source": [
        "# Completeness\n",
        "#\n",
        "# Identifying the Missing Data\n",
        "#\n",
        "train_df1.isnull().sum().sum()"
      ],
      "execution_count": 189,
      "outputs": [
        {
          "output_type": "execute_result",
          "data": {
            "text/plain": [
              "179"
            ]
          },
          "metadata": {
            "tags": []
          },
          "execution_count": 189
        }
      ]
    },
    {
      "cell_type": "code",
      "metadata": {
        "colab": {
          "base_uri": "https://localhost:8080/"
        },
        "id": "2fkQgbbZKPiB",
        "outputId": "ee7043ed-7675-4636-a967-8c984932290a"
      },
      "source": [
        "# dealing with missing values\n",
        "#dropping missing values\n",
        "#\n",
        "train_df1=train_df1.dropna()\n",
        "#\n",
        "#confirming the dropna function worked\n",
        "#\n",
        "train_df1.isnull().sum(). any()"
      ],
      "execution_count": 190,
      "outputs": [
        {
          "output_type": "execute_result",
          "data": {
            "text/plain": [
              "False"
            ]
          },
          "metadata": {
            "tags": []
          },
          "execution_count": 190
        }
      ]
    },
    {
      "cell_type": "code",
      "metadata": {
        "colab": {
          "base_uri": "https://localhost:8080/"
        },
        "id": "h7lTddEgSQEJ",
        "outputId": "faae2a58-8613-45a6-cbb9-d8444cc8f35c"
      },
      "source": [
        "#consistency\n",
        "#\n",
        "# looking for duplicates\n",
        "#\n",
        "train_df1.duplicated().sum()"
      ],
      "execution_count": 191,
      "outputs": [
        {
          "output_type": "execute_result",
          "data": {
            "text/plain": [
              "3"
            ]
          },
          "metadata": {
            "tags": []
          },
          "execution_count": 191
        }
      ]
    },
    {
      "cell_type": "code",
      "metadata": {
        "colab": {
          "base_uri": "https://localhost:8080/"
        },
        "id": "xLBnGTHcLaxn",
        "outputId": "14f4a3af-e62a-4ecf-b4cf-e64d49b19bc4"
      },
      "source": [
        "#dropping duplicates\n",
        "#\n",
        "train_df1 = train_df1.drop_duplicates()\n",
        "#\n",
        "#confirming duplicates have been dropped\n",
        "#\n",
        "train_df1.duplicated().sum().any()"
      ],
      "execution_count": 192,
      "outputs": [
        {
          "output_type": "execute_result",
          "data": {
            "text/plain": [
              "False"
            ]
          },
          "metadata": {
            "tags": []
          },
          "execution_count": 192
        }
      ]
    },
    {
      "cell_type": "code",
      "metadata": {
        "colab": {
          "base_uri": "https://localhost:8080/",
          "height": 202
        },
        "id": "hdGvarJaMWlE",
        "outputId": "772922c7-5516-42ee-8738-edf07cfdbea6"
      },
      "source": [
        "#uniformity\n",
        "#\n",
        "#standardization\n",
        "#fixing messy colunms names, names with upper case, space and white space\n",
        "#\n",
        "#nothing  to be fixed, all colunms are named correctly\n",
        "#\n",
        "train_df1.columns = train_df1.columns.str.strip().str.lower().str.replace(' ', '_').str.replace('(', '').str.replace(')', '')\n",
        "\n",
        "#clean dtaset\n",
        "#\n",
        "train_df2=train_df1.copy()\n",
        "#\n",
        "train_df2.head()\n"
      ],
      "execution_count": 193,
      "outputs": [
        {
          "output_type": "execute_result",
          "data": {
            "text/html": [
              "<div>\n",
              "<style scoped>\n",
              "    .dataframe tbody tr th:only-of-type {\n",
              "        vertical-align: middle;\n",
              "    }\n",
              "\n",
              "    .dataframe tbody tr th {\n",
              "        vertical-align: top;\n",
              "    }\n",
              "\n",
              "    .dataframe thead th {\n",
              "        text-align: right;\n",
              "    }\n",
              "</style>\n",
              "<table border=\"1\" class=\"dataframe\">\n",
              "  <thead>\n",
              "    <tr style=\"text-align: right;\">\n",
              "      <th></th>\n",
              "      <th>survived</th>\n",
              "      <th>pclass</th>\n",
              "      <th>sex</th>\n",
              "      <th>age</th>\n",
              "      <th>sibsp</th>\n",
              "      <th>parch</th>\n",
              "      <th>ticket</th>\n",
              "      <th>fare</th>\n",
              "      <th>embarked</th>\n",
              "    </tr>\n",
              "  </thead>\n",
              "  <tbody>\n",
              "    <tr>\n",
              "      <th>0</th>\n",
              "      <td>0</td>\n",
              "      <td>3</td>\n",
              "      <td>male</td>\n",
              "      <td>22.0</td>\n",
              "      <td>1</td>\n",
              "      <td>0</td>\n",
              "      <td>A/5 21171</td>\n",
              "      <td>7.2500</td>\n",
              "      <td>S</td>\n",
              "    </tr>\n",
              "    <tr>\n",
              "      <th>1</th>\n",
              "      <td>1</td>\n",
              "      <td>1</td>\n",
              "      <td>female</td>\n",
              "      <td>38.0</td>\n",
              "      <td>1</td>\n",
              "      <td>0</td>\n",
              "      <td>PC 17599</td>\n",
              "      <td>71.2833</td>\n",
              "      <td>C</td>\n",
              "    </tr>\n",
              "    <tr>\n",
              "      <th>2</th>\n",
              "      <td>1</td>\n",
              "      <td>3</td>\n",
              "      <td>female</td>\n",
              "      <td>26.0</td>\n",
              "      <td>0</td>\n",
              "      <td>0</td>\n",
              "      <td>STON/O2. 3101282</td>\n",
              "      <td>7.9250</td>\n",
              "      <td>S</td>\n",
              "    </tr>\n",
              "    <tr>\n",
              "      <th>3</th>\n",
              "      <td>1</td>\n",
              "      <td>1</td>\n",
              "      <td>female</td>\n",
              "      <td>35.0</td>\n",
              "      <td>1</td>\n",
              "      <td>0</td>\n",
              "      <td>113803</td>\n",
              "      <td>53.1000</td>\n",
              "      <td>S</td>\n",
              "    </tr>\n",
              "    <tr>\n",
              "      <th>4</th>\n",
              "      <td>0</td>\n",
              "      <td>3</td>\n",
              "      <td>male</td>\n",
              "      <td>35.0</td>\n",
              "      <td>0</td>\n",
              "      <td>0</td>\n",
              "      <td>373450</td>\n",
              "      <td>8.0500</td>\n",
              "      <td>S</td>\n",
              "    </tr>\n",
              "  </tbody>\n",
              "</table>\n",
              "</div>"
            ],
            "text/plain": [
              "   survived  pclass     sex   age  ...  parch            ticket     fare  embarked\n",
              "0         0       3    male  22.0  ...      0         A/5 21171   7.2500         S\n",
              "1         1       1  female  38.0  ...      0          PC 17599  71.2833         C\n",
              "2         1       3  female  26.0  ...      0  STON/O2. 3101282   7.9250         S\n",
              "3         1       1  female  35.0  ...      0            113803  53.1000         S\n",
              "4         0       3    male  35.0  ...      0            373450   8.0500         S\n",
              "\n",
              "[5 rows x 9 columns]"
            ]
          },
          "metadata": {
            "tags": []
          },
          "execution_count": 193
        }
      ]
    },
    {
      "cell_type": "markdown",
      "metadata": {
        "id": "byBTjuhdz96f"
      },
      "source": [
        "## 6. Exploratory Data Analysis"
      ]
    },
    {
      "cell_type": "markdown",
      "metadata": {
        "id": "-8BH5Ao_cinX"
      },
      "source": [
        "### Univariate Analysis."
      ]
    },
    {
      "cell_type": "code",
      "metadata": {
        "colab": {
          "base_uri": "https://localhost:8080/",
          "height": 357
        },
        "id": "bzWI2xWKdKJG",
        "outputId": "d3e49c44-981f-45c9-ab64-ea2eb40df022"
      },
      "source": [
        "#univariate analysis: survived variable piechart\n",
        "#\n",
        "plt.figure(figsize = (6, 6))\n",
        "train_df2.survived.value_counts().plot(kind = 'pie', autopct = '%0.1f%%')\n",
        "plt.show()"
      ],
      "execution_count": 194,
      "outputs": [
        {
          "output_type": "display_data",
          "data": {
            "image/png": "[encoded data removed]",
            "text/plain": [
              "<Figure size 432x432 with 1 Axes>"
            ]
          },
          "metadata": {
            "tags": []
          }
        }
      ]
    },
    {
      "cell_type": "markdown",
      "metadata": {
        "id": "_H2r0xxdgGs2"
      },
      "source": [
        "**obervarvation**: there were more passangers who did not survive. "
      ]
    },
    {
      "cell_type": "code",
      "metadata": {
        "colab": {
          "base_uri": "https://localhost:8080/",
          "height": 265
        },
        "id": "_FQVf-UZgjRm",
        "outputId": "210b9af6-a22e-4112-84ca-45f38bb681c2"
      },
      "source": [
        "# univariate analysis: passanger class  variable bar graph\n",
        "#\n",
        "train_df2.pclass.value_counts().plot(kind = 'bar', rot = 0)\n",
        "plt.show()"
      ],
      "execution_count": 195,
      "outputs": [
        {
          "output_type": "display_data",
          "data": {
            "image/png": "[encoded data removed]",
            "text/plain": [
              "<Figure size 432x288 with 1 Axes>"
            ]
          },
          "metadata": {
            "tags": [],
            "needs_background": "light"
          }
        }
      ]
    },
    {
      "cell_type": "markdown",
      "metadata": {
        "id": "GCjSpiuvg7IC"
      },
      "source": [
        "**observation**: we had more passangers in 3rd class."
      ]
    },
    {
      "cell_type": "code",
      "metadata": {
        "colab": {
          "base_uri": "https://localhost:8080/",
          "height": 357
        },
        "id": "X2IJTNXDhJ70",
        "outputId": "d53feb2d-4cf5-4ae5-8224-f1e351114ee8"
      },
      "source": [
        "#univariate analysis: sex variable piechart\n",
        "#\n",
        "plt.figure(figsize = (6, 6))\n",
        "train_df2.sex.value_counts().plot(kind = 'pie', autopct = '%0.1f%%')\n",
        "plt.show()"
      ],
      "execution_count": 196,
      "outputs": [
        {
          "output_type": "display_data",
          "data": {
            "image/png": "[encoded data removed]",
            "text/plain": [
              "<Figure size 432x432 with 1 Axes>"
            ]
          },
          "metadata": {
            "tags": []
          }
        }
      ]
    },
    {
      "cell_type": "markdown",
      "metadata": {
        "id": "XLPrhtzzhjA3"
      },
      "source": [
        "**observation**: we had more male than female on board."
      ]
    },
    {
      "cell_type": "code",
      "metadata": {
        "colab": {
          "base_uri": "https://localhost:8080/"
        },
        "id": "1FCfk84ehtTa",
        "outputId": "ee0f9278-b662-4a18-b806-2ac2b9db210b"
      },
      "source": [
        "# univariate analysis: age variable histogram\n",
        "#\n",
        "#obtaining mode, median, range for age variable\n",
        "#\n",
        "train_df2[\"age\"].describe()\n"
      ],
      "execution_count": 197,
      "outputs": [
        {
          "output_type": "execute_result",
          "data": {
            "text/plain": [
              "count    709.000000\n",
              "mean      29.687475\n",
              "std       14.481064\n",
              "min        0.420000\n",
              "25%       20.000000\n",
              "50%       28.000000\n",
              "75%       38.000000\n",
              "max       80.000000\n",
              "Name: age, dtype: float64"
            ]
          },
          "metadata": {
            "tags": []
          },
          "execution_count": 197
        }
      ]
    },
    {
      "cell_type": "code",
      "metadata": {
        "colab": {
          "base_uri": "https://localhost:8080/"
        },
        "id": "-Q2p52WJkw3q",
        "outputId": "475b08b5-5678-4e63-ae02-7ff768792a20"
      },
      "source": [
        "a=train_df2['age'].max()\n",
        "b=train_df2['age'].min()\n",
        "range = a-b\n",
        "print(\"Age range\", range)"
      ],
      "execution_count": 198,
      "outputs": [
        {
          "output_type": "stream",
          "text": [
            "Age range 79.58\n"
          ],
          "name": "stdout"
        }
      ]
    },
    {
      "cell_type": "code",
      "metadata": {
        "colab": {
          "base_uri": "https://localhost:8080/",
          "height": 333
        },
        "id": "zuPx8zCUIvkX",
        "outputId": "cfa6215d-643a-4109-ff52-98902bd7b559"
      },
      "source": [
        "## univariate analysis: age variable distplot\n",
        "#\n",
        "plt.figure(figsize = (6, 4))\n",
        "sns.distplot(train_df2.age);"
      ],
      "execution_count": 199,
      "outputs": [
        {
          "output_type": "stream",
          "text": [
            "/usr/local/lib/python3.6/dist-packages/seaborn/distributions.py:2551: FutureWarning: `distplot` is a deprecated function and will be removed in a future version. Please adapt your code to use either `displot` (a figure-level function with similar flexibility) or `histplot` (an axes-level function for histograms).\n",
            "  warnings.warn(msg, FutureWarning)\n"
          ],
          "name": "stderr"
        },
        {
          "output_type": "display_data",
          "data": {
            "image/png": "[encoded data removed]",
            "text/plain": [
              "<Figure size 432x288 with 1 Axes>"
            ]
          },
          "metadata": {
            "tags": [],
            "needs_background": "light"
          }
        }
      ]
    },
    {
      "cell_type": "markdown",
      "metadata": {
        "id": "5HGhH8L2msYu"
      },
      "source": [
        "**observation**:\n",
        "* distribution of age is close to normal distribution. there were more records of passagers aged between  19 to 25 years. meaning these were the most respodents.\n",
        "* the mean age was 30years\n",
        "* the minimun age of the passanger onboard was 4 months.\n",
        "* the maximum age of the passanger onboard  was 80years\n",
        "* the age range was 79 years and 6 months.\n"
      ]
    },
    {
      "cell_type": "code",
      "metadata": {
        "colab": {
          "base_uri": "https://localhost:8080/",
          "height": 265
        },
        "id": "jYgaClmopSIH",
        "outputId": "998f09ca-9efc-46a1-cc1a-1e639bd7674f"
      },
      "source": [
        "# univariate analysis: number of siblings / spouses aboard the Titanic variable bar graph\n",
        "#\n",
        "train_df2.sibsp.value_counts().plot(kind = 'barh', rot = 0)\n",
        "plt.show()"
      ],
      "execution_count": 200,
      "outputs": [
        {
          "output_type": "display_data",
          "data": {
            "image/png": "[encoded data removed]",
            "text/plain": [
              "<Figure size 432x288 with 1 Axes>"
            ]
          },
          "metadata": {
            "tags": [],
            "needs_background": "light"
          }
        }
      ]
    },
    {
      "cell_type": "markdown",
      "metadata": {
        "id": "KFSesQXppy9t"
      },
      "source": [
        "**observation**: many of the passangers were single(did not have siblings/spouse)"
      ]
    },
    {
      "cell_type": "code",
      "metadata": {
        "colab": {
          "base_uri": "https://localhost:8080/",
          "height": 265
        },
        "id": "AZw9_Ac7qDMG",
        "outputId": "2d11407d-4a63-4f59-b5d4-4b475aee6a8d"
      },
      "source": [
        "# univariate analysis: number of parents / children aboard the Titanic variable bar graph\n",
        "#\n",
        "train_df2.parch.value_counts().plot(kind = 'bar', rot = 0)\n",
        "plt.show()"
      ],
      "execution_count": 201,
      "outputs": [
        {
          "output_type": "display_data",
          "data": {
            "image/png": "[encoded data removed]",
            "text/plain": [
              "<Figure size 432x288 with 1 Axes>"
            ]
          },
          "metadata": {
            "tags": [],
            "needs_background": "light"
          }
        }
      ]
    },
    {
      "cell_type": "markdown",
      "metadata": {
        "id": "1tmp4siMqtW_"
      },
      "source": [
        "**observation**: most of the passangers onboard were not parents."
      ]
    },
    {
      "cell_type": "code",
      "metadata": {
        "colab": {
          "base_uri": "https://localhost:8080/"
        },
        "id": "JXamoMDtrZQe",
        "outputId": "90c6ada2-f498-4360-c1b5-4891da5c9645"
      },
      "source": [
        "# getting the median, maximum, minimum of fare variable\n",
        "#\n",
        "train_df2['fare'].describe()"
      ],
      "execution_count": 202,
      "outputs": [
        {
          "output_type": "execute_result",
          "data": {
            "text/plain": [
              "count    709.000000\n",
              "mean      34.508927\n",
              "std       53.025069\n",
              "min        0.000000\n",
              "25%        8.050000\n",
              "50%       15.500000\n",
              "75%       32.500000\n",
              "max      512.329200\n",
              "Name: fare, dtype: float64"
            ]
          },
          "metadata": {
            "tags": []
          },
          "execution_count": 202
        }
      ]
    },
    {
      "cell_type": "code",
      "metadata": {
        "colab": {
          "base_uri": "https://localhost:8080/",
          "height": 438
        },
        "id": "R5grpsl6q2jo",
        "outputId": "a58b5ece-0bbc-4d66-b479-88ce1c1a657c"
      },
      "source": [
        "fare_hist =train_df2['fare']\n",
        "plt.hist(fare_hist, bins=30, histtype='bar', rwidth=2)"
      ],
      "execution_count": 203,
      "outputs": [
        {
          "output_type": "execute_result",
          "data": {
            "text/plain": [
              "(array([374., 162.,  40.,  37.,  36.,  12.,  10.,  10.,   8.,   2.,   0.,\n",
              "          0.,   4.,   3.,   2.,   6.,   0.,   0.,   0.,   0.,   0.,   0.,\n",
              "          0.,   0.,   0.,   0.,   0.,   0.,   0.,   3.]),\n",
              " array([  0.     ,  17.07764,  34.15528,  51.23292,  68.31056,  85.3882 ,\n",
              "        102.46584, 119.54348, 136.62112, 153.69876, 170.7764 , 187.85404,\n",
              "        204.93168, 222.00932, 239.08696, 256.1646 , 273.24224, 290.31988,\n",
              "        307.39752, 324.47516, 341.5528 , 358.63044, 375.70808, 392.78572,\n",
              "        409.86336, 426.941  , 444.01864, 461.09628, 478.17392, 495.25156,\n",
              "        512.3292 ]),\n",
              " <a list of 30 Patch objects>)"
            ]
          },
          "metadata": {
            "tags": []
          },
          "execution_count": 203
        },
        {
          "output_type": "display_data",
          "data": {
            "image/png": "[encoded data removed]",
            "text/plain": [
              "<Figure size 432x288 with 1 Axes>"
            ]
          },
          "metadata": {
            "tags": [],
            "needs_background": "light"
          }
        }
      ]
    },
    {
      "cell_type": "markdown",
      "metadata": {
        "id": "64Q3NsbJtjvT"
      },
      "source": [
        "**observation**: \n",
        "* the mean fare was 34.5\n",
        "* maximum fare was 512 and minimum was zero; meaning other passangers did not pay to board titanic.\n",
        "* price didtributed is skewed to the right."
      ]
    },
    {
      "cell_type": "code",
      "metadata": {
        "colab": {
          "base_uri": "https://localhost:8080/",
          "height": 265
        },
        "id": "qsYpSBVvgqQR",
        "outputId": "699f980a-d899-4ebb-9f30-1d4ffcc9ad5e"
      },
      "source": [
        "# univariate analysis: embarked variable bar graph\n",
        "#\n",
        "train_df2.embarked.value_counts().plot(kind = 'bar', rot = 0)\n",
        "plt.show()"
      ],
      "execution_count": 204,
      "outputs": [
        {
          "output_type": "display_data",
          "data": {
            "image/png": "[encoded data removed]",
            "text/plain": [
              "<Figure size 432x288 with 1 Axes>"
            ]
          },
          "metadata": {
            "tags": [],
            "needs_background": "light"
          }
        }
      ]
    },
    {
      "cell_type": "markdown",
      "metadata": {
        "id": "JdPChdYZx4ey"
      },
      "source": [
        "**observation** most passangers on board wer to embark at  Southampton."
      ]
    },
    {
      "cell_type": "markdown",
      "metadata": {
        "id": "mZsjCuGiyBkG"
      },
      "source": [
        "### Bivariate analysis\n",
        "\n",
        "We now perform bivariate analysis, which is a type of analysis that involves two variables. The main objective is to understand the relationships between these two types of variables"
      ]
    },
    {
      "cell_type": "code",
      "metadata": {
        "colab": {
          "base_uri": "https://localhost:8080/",
          "height": 278
        },
        "id": "KDLRRUIgyOkD",
        "outputId": "511d671f-d366-4b4c-a3fa-ae47ba25f67d"
      },
      "source": [
        "#sex by survived.\n",
        "#\n",
        "sns.barplot(x=\"sex\", y=\"survived\", data=train_df2)\n",
        "plt.show()"
      ],
      "execution_count": 205,
      "outputs": [
        {
          "output_type": "display_data",
          "data": {
            "image/png": "[encoded data removed]",
            "text/plain": [
              "<Figure size 432x288 with 1 Axes>"
            ]
          },
          "metadata": {
            "tags": [],
            "needs_background": "light"
          }
        }
      ]
    },
    {
      "cell_type": "markdown",
      "metadata": {
        "id": "t3cvwDWUzB-h"
      },
      "source": [
        "**observation**: more female servived compared to mele."
      ]
    },
    {
      "cell_type": "code",
      "metadata": {
        "colab": {
          "base_uri": "https://localhost:8080/",
          "height": 278
        },
        "id": "nep5uRek2iUO",
        "outputId": "14a8f40b-9d0d-46d4-8fbd-398b5ccee4e7"
      },
      "source": [
        "# sex vs survived comparison \n",
        "sns.countplot(x = 'sex', hue = 'survived', data = train_df2)\n",
        "plt.show()"
      ],
      "execution_count": 206,
      "outputs": [
        {
          "output_type": "display_data",
          "data": {
            "image/png": "[encoded data removed]",
            "text/plain": [
              "<Figure size 432x288 with 1 Axes>"
            ]
          },
          "metadata": {
            "tags": [],
            "needs_background": "light"
          }
        }
      ]
    },
    {
      "cell_type": "markdown",
      "metadata": {
        "id": "e4iP6tuf2sBD"
      },
      "source": [
        "**observation**:\n",
        "* number of males were greater than number of females.\n",
        "* but number of males who survived were less than the number of females who survived"
      ]
    },
    {
      "cell_type": "code",
      "metadata": {
        "colab": {
          "base_uri": "https://localhost:8080/",
          "height": 530
        },
        "id": "eAsOPr4QLMeZ",
        "outputId": "bdeebe87-0a65-475b-d361-937ed11135c9"
      },
      "source": [
        "# age vs survived\n",
        "sur_df2=train_df2\n",
        "sur_df2= sns.FacetGrid(train_df2, row=\"survived\")\n",
        "sur_df2.map(sns.distplot, \"age\", bins=25)\n",
        "plt.show()"
      ],
      "execution_count": 207,
      "outputs": [
        {
          "output_type": "stream",
          "text": [
            "/usr/local/lib/python3.6/dist-packages/seaborn/distributions.py:2551: FutureWarning: `distplot` is a deprecated function and will be removed in a future version. Please adapt your code to use either `displot` (a figure-level function with similar flexibility) or `histplot` (an axes-level function for histograms).\n",
            "  warnings.warn(msg, FutureWarning)\n",
            "/usr/local/lib/python3.6/dist-packages/seaborn/distributions.py:2551: FutureWarning: `distplot` is a deprecated function and will be removed in a future version. Please adapt your code to use either `displot` (a figure-level function with similar flexibility) or `histplot` (an axes-level function for histograms).\n",
            "  warnings.warn(msg, FutureWarning)\n"
          ],
          "name": "stderr"
        },
        {
          "output_type": "display_data",
          "data": {
            "image/png": "[encoded data removed]",
            "text/plain": [
              "<Figure size 216x432 with 2 Axes>"
            ]
          },
          "metadata": {
            "tags": [],
            "needs_background": "light"
          }
        }
      ]
    },
    {
      "cell_type": "markdown",
      "metadata": {
        "id": "2tTMCGJW9DPW"
      },
      "source": [
        "**observation**: most of those who survived were aged between 25 to 30 years."
      ]
    },
    {
      "cell_type": "code",
      "metadata": {
        "colab": {
          "base_uri": "https://localhost:8080/",
          "height": 368
        },
        "id": "FiboJczczoYd",
        "outputId": "4e808f0f-f00b-4618-a358-d6e843f47451"
      },
      "source": [
        "#passanger class vs survive\n",
        "#\n",
        "plt.subplots(figsize = (8,5))\n",
        "sns.barplot(x = \"pclass\", y = \"survived\", data=train_df2)\n",
        "plt.title(\"Pclass Distribution - Survived vs Non-Survived\")"
      ],
      "execution_count": 208,
      "outputs": [
        {
          "output_type": "execute_result",
          "data": {
            "text/plain": [
              "Text(0.5, 1.0, 'Pclass Distribution - Survived vs Non-Survived')"
            ]
          },
          "metadata": {
            "tags": []
          },
          "execution_count": 208
        },
        {
          "output_type": "display_data",
          "data": {
            "image/png": "[encoded data removed]",
            "text/plain": [
              "<Figure size 576x360 with 1 Axes>"
            ]
          },
          "metadata": {
            "tags": [],
            "needs_background": "light"
          }
        }
      ]
    },
    {
      "cell_type": "markdown",
      "metadata": {
        "id": "uHpaLPCT0UKh"
      },
      "source": [
        "**observation**: more passangers in the 1st class survived."
      ]
    },
    {
      "cell_type": "code",
      "metadata": {
        "colab": {
          "base_uri": "https://localhost:8080/",
          "height": 278
        },
        "id": "uoLjqCKM22He",
        "outputId": "d2d9227a-d910-4b13-e4f8-99761e3f2ff5"
      },
      "source": [
        "# pclass vs survived comparison \n",
        "sns.countplot(x = 'pclass', hue = 'survived', data = train_df2)\n",
        "plt.show()"
      ],
      "execution_count": 209,
      "outputs": [
        {
          "output_type": "display_data",
          "data": {
            "image/png": "[encoded data removed]",
            "text/plain": [
              "<Figure size 432x288 with 1 Axes>"
            ]
          },
          "metadata": {
            "tags": [],
            "needs_background": "light"
          }
        }
      ]
    },
    {
      "cell_type": "markdown",
      "metadata": {
        "id": "pwaTOamC3Idw"
      },
      "source": [
        "**observation**\n",
        "* The number of Passengers in Pclass 3 were very higher but less survived."
      ]
    },
    {
      "cell_type": "code",
      "metadata": {
        "colab": {
          "base_uri": "https://localhost:8080/",
          "height": 282
        },
        "id": "3AtdJ2F5KmRW",
        "outputId": "c90c6a34-6537-4205-ba7c-561dddaed8f1"
      },
      "source": [
        "# perch vs servived\n",
        "#\n",
        "sns.countplot(x = 'parch', hue = 'survived', data = train_df2)\n",
        "plt.show()"
      ],
      "execution_count": 210,
      "outputs": [
        {
          "output_type": "display_data",
          "data": {
            "image/png": "[encoded data removed]",
            "text/plain": [
              "<Figure size 432x288 with 1 Axes>"
            ]
          },
          "metadata": {
            "tags": [],
            "needs_background": "light"
          }
        }
      ]
    },
    {
      "cell_type": "markdown",
      "metadata": {
        "id": "jdx-H0AW9bC8"
      },
      "source": [
        "**Observation**: majority of those without parents/guardians did not survice."
      ]
    },
    {
      "cell_type": "code",
      "metadata": {
        "colab": {
          "base_uri": "https://localhost:8080/",
          "height": 278
        },
        "id": "4rIkWooa30dZ",
        "outputId": "bd4675d4-1d86-40f4-f9e9-1cd020d24f6f"
      },
      "source": [
        "# embarked vs survived comparison\n",
        "#\n",
        "sns.countplot(x = 'embarked', hue = 'survived', data = train_df2)\n",
        "plt.show()\n"
      ],
      "execution_count": 211,
      "outputs": [
        {
          "output_type": "display_data",
          "data": {
            "image/png": "[encoded data removed]",
            "text/plain": [
              "<Figure size 432x288 with 1 Axes>"
            ]
          },
          "metadata": {
            "tags": [],
            "needs_background": "light"
          }
        }
      ]
    },
    {
      "cell_type": "markdown",
      "metadata": {
        "id": "PaF50Rxi988P"
      },
      "source": [
        "**observation**: most of those who embarked at Southampton did not survive."
      ]
    },
    {
      "cell_type": "markdown",
      "metadata": {
        "id": "O1Nnug5r0Rqr"
      },
      "source": [
        "## 7. Feature engineering"
      ]
    },
    {
      "cell_type": "code",
      "metadata": {
        "id": "5nZ4HMkvO6WU"
      },
      "source": [
        "#converting sex and embarked colunms  to numeric\n",
        "# 1 is male, 0 is female for sex\n",
        "train_df2['sex'].replace(['male', 'female'],[1,0],inplace=True)\n",
        "#\n",
        "#C = Cherbourg as -1, Q = Queenstown as 0, S = Southampton as 1\n",
        "train_df2['embarked'].replace(['C', 'Q', 'S'],[-1,0,1],inplace=True)"
      ],
      "execution_count": 212,
      "outputs": []
    },
    {
      "cell_type": "code",
      "metadata": {
        "colab": {
          "base_uri": "https://localhost:8080/",
          "height": 294
        },
        "id": "twKp0TTSPbFo",
        "outputId": "be39524a-6fa5-4fb2-d8af-b5d10c6eb188"
      },
      "source": [
        "# Computing the correlation matrix \n",
        "#\n",
        "# This is the association between numerical variables in the dataset\n",
        "#\n",
        "train_df2.corr()"
      ],
      "execution_count": 213,
      "outputs": [
        {
          "output_type": "execute_result",
          "data": {
            "text/html": [
              "<div>\n",
              "<style scoped>\n",
              "    .dataframe tbody tr th:only-of-type {\n",
              "        vertical-align: middle;\n",
              "    }\n",
              "\n",
              "    .dataframe tbody tr th {\n",
              "        vertical-align: top;\n",
              "    }\n",
              "\n",
              "    .dataframe thead th {\n",
              "        text-align: right;\n",
              "    }\n",
              "</style>\n",
              "<table border=\"1\" class=\"dataframe\">\n",
              "  <thead>\n",
              "    <tr style=\"text-align: right;\">\n",
              "      <th></th>\n",
              "      <th>survived</th>\n",
              "      <th>pclass</th>\n",
              "      <th>sex</th>\n",
              "      <th>age</th>\n",
              "      <th>sibsp</th>\n",
              "      <th>parch</th>\n",
              "      <th>fare</th>\n",
              "      <th>embarked</th>\n",
              "    </tr>\n",
              "  </thead>\n",
              "  <tbody>\n",
              "    <tr>\n",
              "      <th>survived</th>\n",
              "      <td>1.000000</td>\n",
              "      <td>-0.359123</td>\n",
              "      <td>-0.536737</td>\n",
              "      <td>-0.079122</td>\n",
              "      <td>-0.016453</td>\n",
              "      <td>0.096227</td>\n",
              "      <td>0.265719</td>\n",
              "      <td>-0.177490</td>\n",
              "    </tr>\n",
              "    <tr>\n",
              "      <th>pclass</th>\n",
              "      <td>-0.359123</td>\n",
              "      <td>1.000000</td>\n",
              "      <td>0.149628</td>\n",
              "      <td>-0.366436</td>\n",
              "      <td>0.063012</td>\n",
              "      <td>0.022485</td>\n",
              "      <td>-0.553451</td>\n",
              "      <td>0.243981</td>\n",
              "    </tr>\n",
              "    <tr>\n",
              "      <th>sex</th>\n",
              "      <td>-0.536737</td>\n",
              "      <td>0.149628</td>\n",
              "      <td>1.000000</td>\n",
              "      <td>0.094976</td>\n",
              "      <td>-0.104296</td>\n",
              "      <td>-0.249595</td>\n",
              "      <td>-0.182824</td>\n",
              "      <td>0.102378</td>\n",
              "    </tr>\n",
              "    <tr>\n",
              "      <th>age</th>\n",
              "      <td>-0.079122</td>\n",
              "      <td>-0.366436</td>\n",
              "      <td>0.094976</td>\n",
              "      <td>1.000000</td>\n",
              "      <td>-0.304616</td>\n",
              "      <td>-0.186869</td>\n",
              "      <td>0.092916</td>\n",
              "      <td>-0.039924</td>\n",
              "    </tr>\n",
              "    <tr>\n",
              "      <th>sibsp</th>\n",
              "      <td>-0.016453</td>\n",
              "      <td>0.063012</td>\n",
              "      <td>-0.104296</td>\n",
              "      <td>-0.304616</td>\n",
              "      <td>1.000000</td>\n",
              "      <td>0.382165</td>\n",
              "      <td>0.141724</td>\n",
              "      <td>0.036786</td>\n",
              "    </tr>\n",
              "    <tr>\n",
              "      <th>parch</th>\n",
              "      <td>0.096227</td>\n",
              "      <td>0.022485</td>\n",
              "      <td>-0.249595</td>\n",
              "      <td>-0.186869</td>\n",
              "      <td>0.382165</td>\n",
              "      <td>1.000000</td>\n",
              "      <td>0.207897</td>\n",
              "      <td>0.012711</td>\n",
              "    </tr>\n",
              "    <tr>\n",
              "      <th>fare</th>\n",
              "      <td>0.265719</td>\n",
              "      <td>-0.553451</td>\n",
              "      <td>-0.182824</td>\n",
              "      <td>0.092916</td>\n",
              "      <td>0.141724</td>\n",
              "      <td>0.207897</td>\n",
              "      <td>1.000000</td>\n",
              "      <td>-0.284629</td>\n",
              "    </tr>\n",
              "    <tr>\n",
              "      <th>embarked</th>\n",
              "      <td>-0.177490</td>\n",
              "      <td>0.243981</td>\n",
              "      <td>0.102378</td>\n",
              "      <td>-0.039924</td>\n",
              "      <td>0.036786</td>\n",
              "      <td>0.012711</td>\n",
              "      <td>-0.284629</td>\n",
              "      <td>1.000000</td>\n",
              "    </tr>\n",
              "  </tbody>\n",
              "</table>\n",
              "</div>"
            ],
            "text/plain": [
              "          survived    pclass       sex  ...     parch      fare  embarked\n",
              "survived  1.000000 -0.359123 -0.536737  ...  0.096227  0.265719 -0.177490\n",
              "pclass   -0.359123  1.000000  0.149628  ...  0.022485 -0.553451  0.243981\n",
              "sex      -0.536737  0.149628  1.000000  ... -0.249595 -0.182824  0.102378\n",
              "age      -0.079122 -0.366436  0.094976  ... -0.186869  0.092916 -0.039924\n",
              "sibsp    -0.016453  0.063012 -0.104296  ...  0.382165  0.141724  0.036786\n",
              "parch     0.096227  0.022485 -0.249595  ...  1.000000  0.207897  0.012711\n",
              "fare      0.265719 -0.553451 -0.182824  ...  0.207897  1.000000 -0.284629\n",
              "embarked -0.177490  0.243981  0.102378  ...  0.012711 -0.284629  1.000000\n",
              "\n",
              "[8 rows x 8 columns]"
            ]
          },
          "metadata": {
            "tags": []
          },
          "execution_count": 213
        }
      ]
    },
    {
      "cell_type": "code",
      "metadata": {
        "colab": {
          "base_uri": "https://localhost:8080/",
          "height": 721
        },
        "id": "DRkv8ZxMPe73",
        "outputId": "e956c52e-942d-42ee-ca64-12b41962eff8"
      },
      "source": [
        "plt.subplots(figsize=(12,12))\n",
        "sns.heatmap(train_df2.corr(),annot=True)"
      ],
      "execution_count": 214,
      "outputs": [
        {
          "output_type": "execute_result",
          "data": {
            "text/plain": [
              "<matplotlib.axes._subplots.AxesSubplot at 0x7f9a8578d630>"
            ]
          },
          "metadata": {
            "tags": []
          },
          "execution_count": 214
        },
        {
          "output_type": "display_data",
          "data": {
            "image/png": "[encoded data removed]",
            "text/plain": [
              "<Figure size 864x864 with 2 Axes>"
            ]
          },
          "metadata": {
            "tags": [],
            "needs_background": "light"
          }
        }
      ]
    },
    {
      "cell_type": "markdown",
      "metadata": {
        "id": "uIzlZWCw0aNH"
      },
      "source": [
        "## Modeling"
      ]
    },
    {
      "cell_type": "markdown",
      "metadata": {
        "id": "_srGKFQxRCan"
      },
      "source": [
        "###K-nearest neighbor classification\n",
        "* this solves classification problems by storing all available cases and classifies new cases by majority vote of its K-neighbor.\n",
        "\n",
        " **limitation**\n",
        " * The accuracy of the algorithm depends on the quality of data\n",
        " * one needs to find an optimal k value(number of nearest neighbor)\n",
        " * It's poor at classifying data points in a boundary where they can be classified one way or another."
      ]
    },
    {
      "cell_type": "markdown",
      "metadata": {
        "id": "FYBW5YNlct2U"
      },
      "source": [
        "**a. spliting our data 80-20**"
      ]
    },
    {
      "cell_type": "code",
      "metadata": {
        "id": "_3gQLXiGRlTd"
      },
      "source": [
        "# Splitting our dataset into features/ indepedent and labels/ target variables\n",
        "#\n",
        "#The X contains attributes while y contains the labels.\n",
        "X = train_df2[['pclass', 'sex', 'age', 'sibsp', 'parch', 'fare', 'embarked']].values\n",
        "y = train_df2['survived'].values\n"
      ],
      "execution_count": 215,
      "outputs": []
    },
    {
      "cell_type": "code",
      "metadata": {
        "id": "noTlVZ-yUuqF"
      },
      "source": [
        "# #splitting our dataset to training and test data\n",
        "#\n",
        "# Training the model using 80% of the data and testing it with 20%.\n",
        "X_train, X_test, y_train, y_test = train_test_split(X, y, test_size=0.2, random_state=0)"
      ],
      "execution_count": 216,
      "outputs": []
    },
    {
      "cell_type": "markdown",
      "metadata": {
        "id": "ZKovWNEaVXR4"
      },
      "source": [
        "**interpretaion**:\n",
        "\n",
        "* X_train: independent/input feature for training the model\n",
        "* y_train: dependent/ target/ output feature for training the model\n",
        "* X_test: independent/input feature for testing the model, will be used to predict the output value\n",
        "* y_test: original depedent/output values of t-test, we'll compare this values with our predicted values to check the performance of our build model.\n",
        "* train_ size= percentage of the data will go to training and  test. set.\n",
        "* random_state= this fix the split i.e there will be the same split each time you ran the code."
      ]
    },
    {
      "cell_type": "code",
      "metadata": {
        "id": "azGy0slKWG5Y"
      },
      "source": [
        "# Feature Scaling\n",
        "# ---\n",
        "# Before making any actual predictions, it is always a good practice to scale the features \n",
        "# so that all of them can be uniformly evaluated.\n",
        "#\n",
        "scaler = StandardScaler()\n",
        "scaler.fit(X_train)\n",
        "\n",
        "X_train = scaler.transform(X_train)\n",
        "X_test = scaler.transform(X_test)"
      ],
      "execution_count": 217,
      "outputs": []
    },
    {
      "cell_type": "code",
      "metadata": {
        "colab": {
          "base_uri": "https://localhost:8080/"
        },
        "id": "BmEblj1NWKxL",
        "outputId": "a3226626-6f3b-4d0b-b34f-1a0fb3de2b6c"
      },
      "source": [
        "#finding the best value of k and it must be odd number\n",
        "\n",
        "math.sqrt(len(y_test))"
      ],
      "execution_count": 218,
      "outputs": [
        {
          "output_type": "execute_result",
          "data": {
            "text/plain": [
              "11.916375287812984"
            ]
          },
          "metadata": {
            "tags": []
          },
          "execution_count": 218
        }
      ]
    },
    {
      "cell_type": "code",
      "metadata": {
        "colab": {
          "base_uri": "https://localhost:8080/"
        },
        "id": "24ygQkn5XNfP",
        "outputId": "e860e714-86c6-4536-9d14-f498ed5b9966"
      },
      "source": [
        "# The first step is to import the KNeighborsClassifier class from the sklearn.neighbors library. \n",
        "# # Fitting the KNeighbors classifier model features to the X_train and X_test\n",
        "# then train the model\n",
        "classifier = KNeighborsClassifier(n_neighbors=11, p=2, metric= 'euclidean')\n",
        "classifier.fit(X_train, y_train)"
      ],
      "execution_count": 219,
      "outputs": [
        {
          "output_type": "execute_result",
          "data": {
            "text/plain": [
              "KNeighborsClassifier(algorithm='auto', leaf_size=30, metric='euclidean',\n",
              "                     metric_params=None, n_jobs=None, n_neighbors=11, p=2,\n",
              "                     weights='uniform')"
            ]
          },
          "metadata": {
            "tags": []
          },
          "execution_count": 219
        }
      ]
    },
    {
      "cell_type": "markdown",
      "metadata": {
        "id": "hClMAZElbDk9"
      },
      "source": [
        "**observation:** \n",
        "* we used euclidean metric for ordinary straight distance between 2 points and by setting p=2\n",
        "* our K is 11."
      ]
    },
    {
      "cell_type": "code",
      "metadata": {
        "id": "zNA_OyayaSS-"
      },
      "source": [
        "# Predict based on the model we've trained\n",
        "#\n",
        "y_pred = classifier.predict(X_test)"
      ],
      "execution_count": 220,
      "outputs": []
    },
    {
      "cell_type": "code",
      "metadata": {
        "colab": {
          "base_uri": "https://localhost:8080/"
        },
        "id": "YuNNUVBoaqGn",
        "outputId": "25de0ddc-b0a3-456a-b3b8-a15883d24c8d"
      },
      "source": [
        "# Evaluating the Algorithm\n",
        "#by checking confusion matrix, classification report and accuracy score.\n",
        "#\n",
        "print(confusion_matrix(y_test, y_pred))\n",
        "print(classification_report(y_test, y_pred))\n",
        "print(\"model accuracy \",accuracy_score(y_test, y_pred))"
      ],
      "execution_count": 221,
      "outputs": [
        {
          "output_type": "stream",
          "text": [
            "[[73  8]\n",
            " [18 43]]\n",
            "              precision    recall  f1-score   support\n",
            "\n",
            "           0       0.80      0.90      0.85        81\n",
            "           1       0.84      0.70      0.77        61\n",
            "\n",
            "    accuracy                           0.82       142\n",
            "   macro avg       0.82      0.80      0.81       142\n",
            "weighted avg       0.82      0.82      0.81       142\n",
            "\n",
            "model accuracy  0.8169014084507042\n"
          ],
          "name": "stdout"
        }
      ]
    },
    {
      "cell_type": "markdown",
      "metadata": {
        "id": "pY89YRsQbgdn"
      },
      "source": [
        "**b. spliting our data 70-30**"
      ]
    },
    {
      "cell_type": "code",
      "metadata": {
        "id": "H4ImvlzucP85"
      },
      "source": [
        "#The X contains attributes while y contains the labels.\n",
        "X = train_df2[['pclass', 'sex', 'age', 'sibsp', 'parch', 'fare', 'embarked']].values\n",
        "y = train_df2['survived'].values"
      ],
      "execution_count": 222,
      "outputs": []
    },
    {
      "cell_type": "code",
      "metadata": {
        "id": "BlCUJA4Bce6T"
      },
      "source": [
        "# #splitting our dataset to training and test data\n",
        "#\n",
        "# Training the model using 70% of the data and testing it with 30%.\n",
        "X_train, X_test, y_train, y_test = train_test_split(X, y, test_size=0.3, random_state=0)"
      ],
      "execution_count": 223,
      "outputs": []
    },
    {
      "cell_type": "code",
      "metadata": {
        "id": "4Yj_h7Dydgsn"
      },
      "source": [
        "# Feature Scaling\n",
        "# ---\n",
        "# Before making any actual predictions, it is always a good practice to scale the features \n",
        "# so that all of them can be uniformly evaluated.\n",
        "#\n",
        "scaler = StandardScaler()\n",
        "scaler.fit(X_train)\n",
        "\n",
        "X_train = scaler.transform(X_train)\n",
        "X_test = scaler.transform(X_test)"
      ],
      "execution_count": 224,
      "outputs": []
    },
    {
      "cell_type": "code",
      "metadata": {
        "colab": {
          "base_uri": "https://localhost:8080/"
        },
        "id": "IrUVYQSCczuD",
        "outputId": "8f602273-3212-47eb-e3e0-22b960c2e6be"
      },
      "source": [
        "# Fitting the KNeighbors classifier model features to the X_train and X_test\n",
        "# then train the model\n",
        "classifier = KNeighborsClassifier(n_neighbors=11, p=2, metric= 'euclidean')\n",
        "classifier.fit(X_train, y_train)"
      ],
      "execution_count": 225,
      "outputs": [
        {
          "output_type": "execute_result",
          "data": {
            "text/plain": [
              "KNeighborsClassifier(algorithm='auto', leaf_size=30, metric='euclidean',\n",
              "                     metric_params=None, n_jobs=None, n_neighbors=11, p=2,\n",
              "                     weights='uniform')"
            ]
          },
          "metadata": {
            "tags": []
          },
          "execution_count": 225
        }
      ]
    },
    {
      "cell_type": "code",
      "metadata": {
        "id": "0FExrEbCdTw-"
      },
      "source": [
        "# Predict based on the model we've trained\n",
        "#\n",
        "y_pred = classifier.predict(X_test)"
      ],
      "execution_count": 226,
      "outputs": []
    },
    {
      "cell_type": "code",
      "metadata": {
        "colab": {
          "base_uri": "https://localhost:8080/"
        },
        "id": "QTtoQ_6Fen8u",
        "outputId": "f9fe63d2-f7f8-4b5d-ffd2-fcd79ca3dcd4"
      },
      "source": [
        "# Evaluating the Algorithm\n",
        "#by checking confusion matrix, classification report and accuracy score.\n",
        "#\n",
        "print(confusion_matrix(y_test, y_pred))\n",
        "print(classification_report(y_test, y_pred))\n",
        "print(\"model accuracy \",accuracy_score(y_test, y_pred))"
      ],
      "execution_count": 227,
      "outputs": [
        {
          "output_type": "stream",
          "text": [
            "[[108  15]\n",
            " [ 30  60]]\n",
            "              precision    recall  f1-score   support\n",
            "\n",
            "           0       0.78      0.88      0.83       123\n",
            "           1       0.80      0.67      0.73        90\n",
            "\n",
            "    accuracy                           0.79       213\n",
            "   macro avg       0.79      0.77      0.78       213\n",
            "weighted avg       0.79      0.79      0.79       213\n",
            "\n",
            "model accuracy  0.7887323943661971\n"
          ],
          "name": "stdout"
        }
      ]
    },
    {
      "cell_type": "markdown",
      "metadata": {
        "id": "vCwj2H11e7X-"
      },
      "source": [
        "**c. spliting our data 60- 40**"
      ]
    },
    {
      "cell_type": "code",
      "metadata": {
        "id": "6gMNOXP7fB9W"
      },
      "source": [
        "#The X contains attributes while y contains the labels.\n",
        "X = train_df2[['pclass', 'sex', 'age', 'sibsp', 'parch', 'fare', 'embarked']].values\n",
        "y = train_df2['survived'].values"
      ],
      "execution_count": 228,
      "outputs": []
    },
    {
      "cell_type": "code",
      "metadata": {
        "id": "5USYnbxigoV_"
      },
      "source": [
        "# #splitting our dataset to training and test data\n",
        "#\n",
        "# Training the model using 60% of the data and testing it with 40%.\n",
        "X_train, X_test, y_train, y_test = train_test_split(X, y, test_size=0.4, random_state=0)"
      ],
      "execution_count": 229,
      "outputs": []
    },
    {
      "cell_type": "code",
      "metadata": {
        "id": "7-6yo5WFgvcb"
      },
      "source": [
        "# Feature Scaling\n",
        "# ---\n",
        "# Before making any actual predictions, it is always a good practice to scale the features \n",
        "# so that all of them can be uniformly evaluated.\n",
        "#\n",
        "scaler = StandardScaler()\n",
        "scaler.fit(X_train)\n",
        "\n",
        "X_train = scaler.transform(X_train)\n",
        "X_test = scaler.transform(X_test)"
      ],
      "execution_count": 230,
      "outputs": []
    },
    {
      "cell_type": "code",
      "metadata": {
        "colab": {
          "base_uri": "https://localhost:8080/"
        },
        "id": "K4GE-jYGg-o9",
        "outputId": "b2d74d5e-e8ea-414a-ba18-7797b056bdea"
      },
      "source": [
        "# Fitting the KNeighbors classifier model features to the X_train and X_test\n",
        "# then train the model\n",
        "classifier = KNeighborsClassifier(n_neighbors=11, p=2, metric= 'euclidean')\n",
        "classifier.fit(X_train, y_train)"
      ],
      "execution_count": 231,
      "outputs": [
        {
          "output_type": "execute_result",
          "data": {
            "text/plain": [
              "KNeighborsClassifier(algorithm='auto', leaf_size=30, metric='euclidean',\n",
              "                     metric_params=None, n_jobs=None, n_neighbors=11, p=2,\n",
              "                     weights='uniform')"
            ]
          },
          "metadata": {
            "tags": []
          },
          "execution_count": 231
        }
      ]
    },
    {
      "cell_type": "code",
      "metadata": {
        "id": "HXTZtFA1hHZb"
      },
      "source": [
        "# Predict based on the model we've trained\n",
        "#\n",
        "y_pred = classifier.predict(X_test)"
      ],
      "execution_count": 232,
      "outputs": []
    },
    {
      "cell_type": "code",
      "metadata": {
        "colab": {
          "base_uri": "https://localhost:8080/"
        },
        "id": "M-vl9MwuhOlP",
        "outputId": "27b3b8c7-9b48-4aea-b3c6-e8da7f1f8f44"
      },
      "source": [
        "# Evaluating the Algorithm\n",
        "#by checking confusion matrix, classification report and accuracy score.\n",
        "#\n",
        "print(confusion_matrix(y_test, y_pred))\n",
        "print(classification_report(y_test, y_pred))\n",
        "print(\"model accuracy \",accuracy_score(y_test, y_pred))"
      ],
      "execution_count": 233,
      "outputs": [
        {
          "output_type": "stream",
          "text": [
            "[[141  24]\n",
            " [ 37  82]]\n",
            "              precision    recall  f1-score   support\n",
            "\n",
            "           0       0.79      0.85      0.82       165\n",
            "           1       0.77      0.69      0.73       119\n",
            "\n",
            "    accuracy                           0.79       284\n",
            "   macro avg       0.78      0.77      0.78       284\n",
            "weighted avg       0.78      0.79      0.78       284\n",
            "\n",
            "model accuracy  0.7852112676056338\n"
          ],
          "name": "stdout"
        }
      ]
    },
    {
      "cell_type": "markdown",
      "metadata": {
        "id": "xZsoh7f-hrLb"
      },
      "source": [
        "**observation**: after splitting  our data to 80-20 we get 81.7% accuracy level, 70-30 split gave as 78.9% accuracy, and 60-40 split gave us 78.5%.\n",
        "\n",
        "* Therefore 80-20 split is the best since it gave the accuracy of 81.7%."
      ]
    },
    {
      "cell_type": "markdown",
      "metadata": {
        "id": "iGSIgREu0u_r"
      },
      "source": [
        "## 9. Follow up questions"
      ]
    },
    {
      "cell_type": "markdown",
      "metadata": {
        "id": "nKJbS79tBv9a"
      },
      "source": [
        "1. Did we have the right data?\n",
        "\n",
        "* Yes"
      ]
    },
    {
      "cell_type": "markdown",
      "metadata": {
        "id": "kVIxbSG9CYMf"
      },
      "source": [
        "2. Do we need other data to answer our question?\n",
        "\n",
        "* No"
      ]
    },
    {
      "cell_type": "markdown",
      "metadata": {
        "id": "Qe8HqAZ2CcZD"
      },
      "source": [
        "3. we need more data to do away with overfitting.\n",
        "\n",
        "* The data was enough to anwer the question."
      ]
    },
    {
      "cell_type": "markdown",
      "metadata": {
        "id": "6sX5_4zoCk1A"
      },
      "source": [
        "4. Did we have the right question?\n",
        "\n",
        "* yes."
      ]
    }
  ]
}